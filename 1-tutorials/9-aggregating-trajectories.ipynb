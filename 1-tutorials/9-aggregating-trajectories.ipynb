{
  "nbformat": 4,
  "nbformat_minor": 0,
  "metadata": {
    "kernelspec": {
      "display_name": "Python 3 (ipykernel)",
      "language": "python",
      "name": "python3"
    },
    "language_info": {
      "codemirror_mode": {
        "name": "ipython",
        "version": 3
      },
      "file_extension": ".py",
      "mimetype": "text/x-python",
      "name": "python",
      "nbconvert_exporter": "python",
      "pygments_lexer": "ipython3",
      "version": "3.7.12"
    },
    "colab": {
      "name": "9-aggregating-trajectories.ipynb",
      "provenance": []
    }
  },
  "cells": [
    {
      "cell_type": "markdown",
      "metadata": {
        "id": "iqTrpDpmEGCQ"
      },
      "source": [
        "# Aggregating trajectories\n",
        "\n",
        "\n",
        "\n",
        "<img align=\"right\" src=\"https://anitagraser.github.io/movingpandas/pics/movingpandas.png\">\n",
        "\n",
        "[![Binder](https://mybinder.org/badge_logo.svg)](https://mybinder.org/v2/gh/anitagraser/movingpandas-examples/main?filepath=1-tutorials/9-aggregating-trajectories.ipynb)\n",
        "\n"
      ]
    },
    {
      "cell_type": "code",
      "metadata": {
        "id": "L-YHTU7rEGDB"
      },
      "source": [
        "import pandas as pd\n",
        "import geopandas as gpd\n",
        "from geopandas import GeoDataFrame, read_file\n",
        "from shapely.geometry import Point, LineString, Polygon\n",
        "from datetime import datetime, timedelta\n",
        "from holoviews import opts, dim\n",
        "import movingpandas as mpd\n",
        "\n",
        "import warnings\n",
        "warnings.filterwarnings('ignore')\n",
        "\n",
        "print(f'MovingPandas version {mpd.__version__}')"
      ],
      "execution_count": null,
      "outputs": []
    },
    {
      "cell_type": "code",
      "metadata": {
        "id": "Zfgoko0xEGDU"
      },
      "source": [
        "FSIZE = 350"
      ],
      "execution_count": null,
      "outputs": []
    },
    {
      "cell_type": "code",
      "metadata": {
        "id": "8hJPudEpEGDs"
      },
      "source": [
        "gdf = read_file('../data/geolife_small.gpkg')\n",
        "traj_collection = mpd.TrajectoryCollection(gdf, 'trajectory_id', t='t')"
      ],
      "execution_count": null,
      "outputs": []
    },
    {
      "cell_type": "code",
      "metadata": {
        "id": "GcYn08grEGD-"
      },
      "source": [
        "traj_collection.hvplot(line_width=7.0, tiles='StamenTonerBackground', width=FSIZE, height=FSIZE)"
      ],
      "execution_count": null,
      "outputs": []
    },
    {
      "cell_type": "markdown",
      "metadata": {
        "id": "gvESve-qEGEF"
      },
      "source": [
        "## TrajectoryCollectionAggregator"
      ]
    },
    {
      "cell_type": "code",
      "metadata": {
        "id": "CKPUhlzBEGEI"
      },
      "source": [
        "help(mpd.TrajectoryCollectionAggregator)"
      ],
      "execution_count": null,
      "outputs": []
    },
    {
      "cell_type": "markdown",
      "metadata": {
        "id": "6-v2oaWQEGES"
      },
      "source": [
        "Generalizing the trip trajectories significantly speeds up the following aggregation step."
      ]
    },
    {
      "cell_type": "code",
      "metadata": {
        "id": "I0q0KzZoEGEW"
      },
      "source": [
        "generalized = mpd.MinDistanceGeneralizer(traj_collection).generalize(tolerance=100)"
      ],
      "execution_count": null,
      "outputs": []
    },
    {
      "cell_type": "code",
      "metadata": {
        "id": "xWpqb6WBEGEf"
      },
      "source": [
        "aggregator = mpd.TrajectoryCollectionAggregator(generalized, max_distance=1000, min_distance=100, min_stop_duration=timedelta(minutes=5))"
      ],
      "execution_count": null,
      "outputs": []
    },
    {
      "cell_type": "code",
      "metadata": {
        "id": "NxOniGjlEGEl"
      },
      "source": [
        "pts = aggregator.get_significant_points_gdf()\n",
        "clusters = aggregator.get_clusters_gdf()\n",
        "( pts.hvplot(geo=True, tiles='StamenTonerBackground', width=FSIZE, height=FSIZE) * \n",
        "  clusters.hvplot(geo=True, color='red' ) )"
      ],
      "execution_count": null,
      "outputs": []
    },
    {
      "cell_type": "code",
      "metadata": {
        "id": "KlUZvbn7EGEo"
      },
      "source": [
        "flows = aggregator.get_flows_gdf()"
      ],
      "execution_count": null,
      "outputs": []
    },
    {
      "cell_type": "code",
      "metadata": {
        "id": "4Dq7oG3hEGEq"
      },
      "source": [
        "( flows.hvplot(geo=True, hover_cols=['weight'], line_width=dim('weight')*7, color='#1f77b3', tiles='StamenTonerBackground') * \n",
        "  clusters.hvplot(geo=True, color='red', size=dim('n') ) )"
      ],
      "execution_count": null,
      "outputs": []
    },
    {
      "cell_type": "code",
      "metadata": {
        "id": "qnBoqxTQEGE0"
      },
      "source": [
        ""
      ],
      "execution_count": null,
      "outputs": []
    }
  ]
}